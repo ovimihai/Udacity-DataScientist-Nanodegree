{
 "cells": [
  {
   "cell_type": "markdown",
   "metadata": {
    "collapsed": true,
    "pycharm": {
     "name": "#%% md\n"
    }
   },
   "source": [
    "# Linear Regressions\n",
    "\n",
    "- Types\n",
    "    - Classification: answers yes/no questions\n",
    "    - Regressions: answers how much questions\n",
    "- Hosing Prices\n",
    "    - graph sq. feet vs price\n",
    "    - draw best fitting line through\n",
    "    \n",
    "    ![house prices](../media/01_02_house.png)\n",
    "- Fit a line to the points - step by step get closer to all points\n",
    "- Move lines\n",
    "    - `y=w_1*x+w_2+1`\n",
    "    - slope: w<sub>1</sub> - decrease will rotate clockwise\n",
    "    - y-intercept: w<sub>1</sub> - increase move upper\n",
    "- Absolute Trick\n",
    "    - for a point (p, q)\n",
    "        - add 1 to the intercept\n",
    "        - add p to the slope\n",
    "    - to avoid large steps use a Learning Rate `alpha`\n",
    "    - `y=(w_1+p*alpha)*x+(w_2+alpha)`\n",
    "    - `y=(w_1-p*alpha)*x+(w_2-alpha)` - when under the point\n",
    "    \n",
    "    ![house prices](../media/01_02_absolute_trick.png)\n",
    "- Square Trick\n",
    "    - multiply terms with q-q'\n",
    "    - `y = (w_1-p*(q-q')*alpha)*x + (w_2+(q-q')*alpha)`\n",
    " "
   ]
  },
  {
   "cell_type": "code",
   "execution_count": 33,
   "outputs": [
    {
     "name": "stdout",
     "text": [
      "Absolute trick coefficients\n",
      "y=-0.1x+3.9\n",
      "Square trick coefficients\n",
      "y=-0.4x+3.96\n"
     ],
     "output_type": "stream"
    }
   ],
   "source": [
    "w_1=-0.6\n",
    "w_2=4\n",
    "def f(x):\n",
    "    return w_1*x+w_2\n",
    "\n",
    "(p,q) = (-5, 3)\n",
    "alpha = 0.1\n",
    "print('Absolute trick coefficients')\n",
    "print('y={:1.1f}x+{}'.format(w_1-p*alpha, w_2-alpha))\n",
    "\n",
    "alpha = 0.01\n",
    "print('Square trick coefficients')\n",
    "print('y={:1.1f}x+{}'.format((w_1+p*(q-f(p))*alpha), (w_2+(q-f(p))*alpha)))"
   ],
   "metadata": {
    "collapsed": false,
    "pycharm": {
     "name": "#%% \n",
     "is_executing": false
    }
   }
  },
  {
   "cell_type": "markdown",
   "source": [
    " \n"
   ],
   "metadata": {
    "collapsed": false,
    "pycharm": {
     "name": "#%% md\n"
    }
   }
  }
 ],
 "metadata": {
  "kernelspec": {
   "display_name": "Python 3",
   "language": "python",
   "name": "python3"
  },
  "language_info": {
   "codemirror_mode": {
    "name": "ipython",
    "version": 2
   },
   "file_extension": ".py",
   "mimetype": "text/x-python",
   "name": "python",
   "nbconvert_exporter": "python",
   "pygments_lexer": "ipython2",
   "version": "2.7.6"
  },
  "pycharm": {
   "stem_cell": {
    "cell_type": "raw",
    "source": [],
    "metadata": {
     "collapsed": false
    }
   }
  }
 },
 "nbformat": 4,
 "nbformat_minor": 0
}
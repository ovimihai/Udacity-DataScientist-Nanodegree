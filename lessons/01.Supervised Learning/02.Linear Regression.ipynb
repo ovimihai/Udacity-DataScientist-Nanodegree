{
 "cells": [
  {
   "cell_type": "markdown",
   "metadata": {
    "collapsed": true,
    "pycharm": {
     "name": "#%% md\n"
    }
   },
   "source": [
    "# Linear Regressions\n",
    "\n",
    "- Types\n",
    "    - Classification: answers yes/no questions\n",
    "    - Regressions: answers how much questions\n",
    "- Hosing Prices\n",
    "    - graph sq. feet vs price\n",
    "    - draw best fitting line through\n",
    "    \n",
    "    ![house prices](../media/01_02_house.png)\n",
    "- Fit a line to the points - step by step get closer to all points\n",
    "- move lines\n",
    "    - ![formula](https://render.githubusercontent.com/render/math?math=y=w_1x%2Bw_2)\n",
    "    - slope: w<sub>1</sub>\n",
    "    - y-intercept: w<sub>1</sub>\n",
    "\n",
    "\n"
   ]
  }
 ],
 "metadata": {
  "kernelspec": {
   "display_name": "Python 3",
   "language": "python",
   "name": "python3"
  },
  "language_info": {
   "codemirror_mode": {
    "name": "ipython",
    "version": 2
   },
   "file_extension": ".py",
   "mimetype": "text/x-python",
   "name": "python",
   "nbconvert_exporter": "python",
   "pygments_lexer": "ipython2",
   "version": "2.7.6"
  },
  "pycharm": {
   "stem_cell": {
    "cell_type": "raw",
    "source": [],
    "metadata": {
     "collapsed": false
    }
   }
  }
 },
 "nbformat": 4,
 "nbformat_minor": 0
}
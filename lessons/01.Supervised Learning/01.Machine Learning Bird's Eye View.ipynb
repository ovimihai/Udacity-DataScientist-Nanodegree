{
 "cells": [
  {
   "cell_type": "markdown",
   "source": [
    "#Machine Learning Bird's Eye View\n",
    "\n",
    "- Intro\n",
    "- History - A statistician's perspective\n",
    "    - from understanding data - a field of mathematics\n",
    "    - distributions: Binomials, Poisson, Zipf - over-simplified\n",
    "- History - A computer Scientist's perspective\n",
    "    - avoid hard-coding\n",
    "    - recognize patterns - ML\n",
    "    - based on distributions, better than previous models\n",
    "    - complex models are not easily interpretable\n",
    "- Types of Machine Learning\n",
    "    - Supervised - data with labels\n",
    "        - Classification - categorical outcomes: spam, breeds\n",
    "        - Regression - numeric outcomes: house prices, individual's height\n",
    "    - Unsupervised - data with no preexisting labels\n",
    "        - vast applications: reduce features, group items, recommend\n",
    "    - Reinforcement Learning\n",
    "        - learn on rewards after taking actions: self driving cars, game playing agents\n",
    "        - [Gym](https://gym.openai.com/)\n",
    "- Deep Learning - has beaten all other methods, used for all technic above\n",
    "    - care less on how we predict\n",
    "    - care about the accuracy\n",
    "    - barriers:\n",
    "        - enough data\n",
    "        - compute power ([AlphaGo](https://deepmind.com/blog/article/alphago-zero-starting-scratch) 1201 CPUs, 176 GPUs)\n",
    "        - not interpretable\n",
    "- Scikit Learn - the most popular open source, includes the most advanced techniques in supervised or unsupervised\n",
    "- Ethics in ML\n",
    "    - models will have the same errors and biases\n",
    "    - should always have in mind biases, more important than statistical validation\n",
    "- Recap\n"
   ],
   "metadata": {
    "collapsed": false
   }
  }
 ],
 "metadata": {
  "kernelspec": {
   "display_name": "Python 3",
   "language": "python",
   "name": "python3"
  },
  "language_info": {
   "codemirror_mode": {
    "name": "ipython",
    "version": 2
   },
   "file_extension": ".py",
   "mimetype": "text/x-python",
   "name": "python",
   "nbconvert_exporter": "python",
   "pygments_lexer": "ipython2",
   "version": "2.7.6"
  },
  "pycharm": {
   "stem_cell": {
    "cell_type": "raw",
    "source": [],
    "metadata": {
     "collapsed": false
    }
   }
  }
 },
 "nbformat": 4,
 "nbformat_minor": 0
}
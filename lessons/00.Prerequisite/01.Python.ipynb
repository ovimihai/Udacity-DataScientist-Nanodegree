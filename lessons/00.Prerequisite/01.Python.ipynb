{
 "cells": [
  {
   "cell_type": "markdown",
   "source": [
    "# Python\n",
    "\n",
    "\n",
    "- Style Guide [PEP 8](https://www.python.org/dev/peps/pep-0008/)"
   ],
   "metadata": {
    "collapsed": false
   }
  },
  {
   "cell_type": "markdown",
   "source": [
    "## Data types and Operators\n",
    "- Arithmetic Operators\n",
    "    - \\+ \\- \\* /\n",
    "    - ** exponentiation not ^ (bitwise XOR in Python)\n",
    "    - // divides and rounds down to the nearest integer\n",
    "    - % mod - the remainder after dividing\n",
    "    - math order of operations\n",
    "- Variable assignment Operator\n",
    "- Integer and Floats\n",
    "- Booleans, Comparison operators\n",
    "- Strings\n",
    "- Type and Type conversion\n",
    "- String methods\n",
    "    - default string literal appending \"a\" \"b\" \"c\" -> \"abc\" \n",
    "- Lists and Membership Operators\n",
    "    - Indexing lists, [0] first, [-1] last, list[len(list) - 1] last\n",
    "    - Slicing lists\n",
    "        - [lower_inclusive : upper_exclusive]\n",
    "        - [:ends_at_index] exclusive\n",
    "        - [begins_at_index:] inclusive\n",
    "        - object **in** list/string\n",
    "        - object **not in** list/string\n",
    "    - Mutability\n",
    "        - Can change list element - mutable\n",
    "        - Can't change a string element - immutable\n",
    "    - Order\n",
    "- List methods\n",
    "    - lists are mutable - assign by reference, will change first if second is changed\n",
    "    - max() - largest int, last in order for strings, undefined for mixed types\n",
    "    - sorted(list, reversed=False) - returns a sorted copy\n",
    "    - str_separator.join(list)\n",
    "    - list.append(element)\n",
    "- Tuples - an useful container used to store related pieces of information (e.g lat, long)\n",
    "    - Immutable\n",
    "    - Parentheses optional at assignment\n",
    "- Sets - containers of **unique** elements without an order\n",
    "    - set = set(list)\n",
    "    - set.add(element)\n",
    "    - set.pop() - a random element is removed\n",
    "    - math: union, intersection\n",
    "- Dictionaries - container for **pairs** of elements\n",
    "    - dictionary[key] -> value; if key doesn't exist will throw KeyError\n",
    "    - keys can be any immutable type\n",
    "    - key **in** dict\n",
    "    - dictionary.get(key, default); get element with fallback\n",
    "    - **is** vs **==**: is implies the same reference\n",
    "    - Compound data structures with nested dictionaries"
   ],
   "metadata": {
    "collapsed": false
   }
  },
  {
   "cell_type": "markdown",
   "source": [
    "## Control Flow\n",
    "- Conditional Statements\n",
    "- Boolean Expressions\n",
    "- Considered False: \n",
    "    - None, False \n",
    "    - 0, 0.0, 0j\n",
    "    - Decimal(0), Fraction(0,1)\n",
    "    - \"\", (), [], {}, set(0), range(0)\n",
    "- For loops\n",
    "    - range(start, stop, step)\n",
    "    - Through dictionaries:\n",
    "        - key, value in dictionary.items()\n",
    "- While loops\n",
    "- Break and continue\n",
    "- Zip and enumerate\n",
    "    - returns an iterator\n",
    "    - unzip with * zip(*arg)\n",
    "    - examples\n",
    "```python\n",
    "letters = ['a', 'b', 'c']\n",
    "numbers = [1, 2, 3]\n",
    "some_list = list(zip(letters, numbers)) # => [('a', 1), ('b',2) ,('c',3)]\n",
    "# unzip\n",
    "letters, nums = zip(*some_list)\n",
    "for letter, num in zip(letters, nums):\n",
    "for i, letters in enumerate(['a', 'b', 'c', 'd']):\n",
    "# zip lists to a dictionary\n",
    "dict(zip(letters, numbers)) # => {'a':1, 'b': 2, 'c': 3}\n",
    "```\n",
    "- List comprehensions\n",
    "```python\n",
    "capitalized_cities = [city.title() for city in cities]\n",
    "\n",
    "squares = [x**2 for x in range(9)]\n",
    "squares = [x**2 for x in range(9) if x % 2 == 0] # with filter\n",
    "squares = [x**2 if x % 2 == 0 else x+3 for x in range(9)] # with if-else filter\n",
    "\n",
    "first_names = [name.split()[0].lower() for name in names]\n",
    "# over dictionaries\n",
    "passed = [name for name, score in dictionary.items() if score >= 65]\n",
    "```"
   ],
   "metadata": {
    "collapsed": false,
    "pycharm": {
     "name": "#%% md\n"
    }
   }
  },
  {
   "cell_type": "markdown",
   "source": [
    "## Functions\n",
    "- Definition\n",
    "- Variable scope\n",
    "    - local - only inside function, NameError outside\n",
    "    - global - inside functions: can be read, can't be modified (UnboundLocalError)\n",
    "- Docstrings\n",
    "    - first line is the description\n",
    "    - Input arguments, Output\n",
    "    - [PEP 257](https://www.python.org/dev/peps/pep-0257/)\n",
    "- Lambda expressions - quick functions\n",
    "    - lambda args: expression\n",
    "- Iterators - an object that represents a stream of data\n",
    "- Generators - a function that created an iterator\n",
    "    - yield\n",
    "    - [list_comprehension_expression] -> (list_comprehension_expression) = generator\n",
    "        - `sq_list = [x**2 for x in range(10)]`\n",
    "        - `sq_iterator = (x**2 for x in range(10))`"
   ],
   "metadata": {
    "collapsed": false,
    "pycharm": {
     "name": "#%% md\n"
    }
   }
  },
  {
   "cell_type": "code",
   "execution_count": null,
   "outputs": [],
   "source": [
    "def test_gen():\n",
    "    yield 1\n",
    "    yield 2\n",
    "    yield 3\n",
    "    \n",
    "for el in test_gen():\n",
    "    print(el)"
   ],
   "metadata": {
    "collapsed": false,
    "pycharm": {
     "name": "#%%\n"
    }
   }
  },
  {
   "cell_type": "markdown",
   "source": [
    "## Scripting\n",
    "\n",
    "- Installation\n",
    "- Run locally\n",
    "- Errors and Exceptions\n",
    "- Handling Errors & Accessing Error Messages\n",
    "- Reading and Writing files\n",
    "    - with open() as f: # automatically closes the file \n",
    "    - OSError: [Errno 24] Too many open files - need to close after reading\n",
    "- Importing local scripts\n",
    "    - when loading another file it creates a variable with the type module and the content from the other file\n",
    "    - if __name__ == '__main__': the code is ran only when file is ran directly\n",
    "- [The Standard Library](https://docs.python.org/3/library/)\n",
    "- Techniques for importing Modules\n",
    "- Third-Party Libraries\n",
    "- Online Resources"
   ],
   "metadata": {
    "collapsed": false,
    "pycharm": {
     "name": "#%% md\n",
     "is_executing": false
    }
   }
  },
  {
   "cell_type": "markdown",
   "source": [
    "\n",
    "\n"
   ],
   "metadata": {
    "collapsed": false,
    "pycharm": {
     "name": "#%% md\n",
     "is_executing": false
    }
   }
  }
 ],
 "metadata": {
  "kernelspec": {
   "display_name": "Python 3",
   "language": "python",
   "name": "python3"
  },
  "language_info": {
   "codemirror_mode": {
    "name": "ipython",
    "version": 2
   },
   "file_extension": ".py",
   "mimetype": "text/x-python",
   "name": "python",
   "nbconvert_exporter": "python",
   "pygments_lexer": "ipython2",
   "version": "2.7.6"
  },
  "pycharm": {
   "stem_cell": {
    "cell_type": "raw",
    "source": [],
    "metadata": {
     "collapsed": false
    }
   }
  }
 },
 "nbformat": 4,
 "nbformat_minor": 0
}
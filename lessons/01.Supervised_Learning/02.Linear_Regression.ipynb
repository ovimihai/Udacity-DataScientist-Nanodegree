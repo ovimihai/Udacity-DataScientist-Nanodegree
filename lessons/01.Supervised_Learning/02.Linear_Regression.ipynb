{
 "cells": [
  {
   "cell_type": "markdown",
   "metadata": {
    "collapsed": true,
    "pycharm": {
     "name": "#%% md\n"
    }
   },
   "source": [
    "# Linear Regressions\n",
    "\n",
    "- Types\n",
    "    - Classification: answers yes/no questions\n",
    "    - Regressions: answers how much questions\n",
    "- Hosing Prices\n",
    "    - graph sq. feet vs price\n",
    "    - draw best fitting line through\n",
    "    \n",
    "    ![house prices](../media/01_02_house.png)\n",
    "- Fit a line to the points - step by step get closer to all points\n",
    "- Move lines\n",
    "    - `y=w_1*x+w_2+1`\n",
    "    - slope: w<sub>1</sub> - decrease will rotate clockwise\n",
    "    - y-intercept: w<sub>1</sub> - increase move upper\n",
    "- Absolute Trick\n",
    "    - for a point (p, q)\n",
    "        - add 1 to the intercept\n",
    "        - add p to the slope\n",
    "    - to avoid large steps use a Learning Rate `alpha`\n",
    "    - `y=(w_1+p*alpha)*x+(w_2+alpha)`\n",
    "    - `y=(w_1-p*alpha)*x+(w_2-alpha)` - when under the point\n",
    "    \n",
    "    ![house prices](../media/01_02_absolute_trick.png)\n",
    "- Square Trick\n",
    "    - multiply terms with q-q'\n",
    "    - `y = (w_1-p*(q-q')*alpha)*x + (w_2+(q-q')*alpha)`\n",
    " "
   ]
  },
  {
   "cell_type": "code",
   "execution_count": 33,
   "outputs": [
    {
     "name": "stdout",
     "text": [
      "Absolute trick coefficients\n",
      "y=-0.1x+3.9\n",
      "Square trick coefficients\n",
      "y=-0.4x+3.96\n"
     ],
     "output_type": "stream"
    }
   ],
   "source": [
    "w_1=-0.6\n",
    "w_2=4\n",
    "def f(x):\n",
    "    return w_1*x+w_2\n",
    "\n",
    "(p,q) = (-5, 3)\n",
    "alpha = 0.1\n",
    "print('Absolute trick coefficients')\n",
    "print('y={:1.1f}x+{}'.format(w_1-p*alpha, w_2-alpha))\n",
    "\n",
    "alpha = 0.01\n",
    "print('Square trick coefficients')\n",
    "print('y={:1.1f}x+{}'.format((w_1+p*(q-f(p))*alpha), (w_2+(q-f(p))*alpha)))"
   ],
   "metadata": {
    "collapsed": false,
    "pycharm": {
     "name": "#%% \n",
     "is_executing": false
    }
   }
  },
  {
   "cell_type": "markdown",
   "source": [
    " - Gradient descent - decrease the chosen error\n",
    "    - ![house prices](../media/01_02_gradient_descent.png)\n",
    "    - mean absolute error = (1/m) * sum( |y - y^| ); (equivalent to absolute trick)\n",
    "    - mean squared error = (1/2*m) * sum ( (y-y^)**2 ); (equivalent to square trick)\n",
    "    - y^ is the predicted y\n",
    "    "
   ],
   "metadata": {
    "collapsed": false,
    "pycharm": {
     "name": "#%% md\n"
    }
   }
  },
  {
   "cell_type": "code",
   "execution_count": 11,
   "outputs": [
    {
     "name": "stdout",
     "text": [
      "3.88\n",
      "10.692000000000002\n"
     ],
     "output_type": "stream"
    }
   ],
   "source": [
    "def f(x):\n",
    "    return 1.2*x + 2\n",
    "\n",
    "points = [(2, -2), (5, 6), (-4, -4), (-7, 1), (8, 14)]\n",
    "mae = mse = 0\n",
    "for point in points:\n",
    "    mae += abs(point[1] - f(point[0]))\n",
    "    mse += (point[1] - f(point[0]))**2\n",
    "mae *= 1/len(points)\n",
    "mse *= 1/(2*len(points))\n",
    "print(mae)\n",
    "print(mse)"
   ],
   "metadata": {
    "collapsed": false,
    "pycharm": {
     "name": "#%% \n",
     "is_executing": false
    }
   }
  },
  {
   "cell_type": "markdown",
   "source": [
    " - Gradient Descent\n",
    "    - Stochastic - apply squared trick point by point\n",
    "    - Batch - apply squared trick on all points at once\n",
    "    - in reality on hudge datasets will split the data in pieces\n",
    "    \n",
    "\n"
   ],
   "metadata": {
    "collapsed": false,
    "pycharm": {
     "name": "#%% md\n"
    }
   }
  }
 ],
 "metadata": {
  "kernelspec": {
   "display_name": "Python 3",
   "language": "python",
   "name": "python3"
  },
  "language_info": {
   "codemirror_mode": {
    "name": "ipython",
    "version": 2
   },
   "file_extension": ".py",
   "mimetype": "text/x-python",
   "name": "python",
   "nbconvert_exporter": "python",
   "pygments_lexer": "ipython2",
   "version": "2.7.6"
  },
  "pycharm": {
   "stem_cell": {
    "cell_type": "raw",
    "source": [],
    "metadata": {
     "collapsed": false
    }
   }
  }
 },
 "nbformat": 4,
 "nbformat_minor": 0
}
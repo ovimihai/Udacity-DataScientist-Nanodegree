{
 "cells": [
  {
   "cell_type": "markdown",
   "metadata": {
    "collapsed": true,
    "pycharm": {
     "name": "#%% md\n"
    }
   },
   "source": [
    "\n",
    "Description\n",
    "-----------\n",
    "\n",
    "CharityML is a fictitious charity organization located in the heart of Silicon Valley that was established to provide financial support for people eager to learn machine learning. After nearly 32,000 letters were sent to people in the community, CharityML determined that every donation they received came from someone that was making more than $50,000 annually. To expand their potential donor base, CharityML has decided to send letters to residents of California, but to only those most likely to donate to the charity. With nearly *15 million* working Californians, CharityML has brought you on board to help build an algorithm to best identify potential donors and reduce overhead cost of sending mail. Your goal will be evaluate and optimize several different supervised learners to determine which algorithm will provide the highest donation yield while also reducing the total number of letters being sent.\n",
    "\n",
    "Software and Libraries\n",
    "----------------------\n",
    "\n",
    "This project uses the following software and Python libraries:\n",
    "\n",
    "-   [Python](https://www.python.org/downloads/release/python-364/)\n",
    "-   [NumPy](http://www.numpy.org/)\n",
    "-   [pandas](http://pandas.pydata.org/)\n",
    "-   [scikit-learn](http://scikit-learn.org/0.17/install.html) (v0.17)\n",
    "-   [Matplotlib](http://matplotlib.org/)\n",
    "\n",
    "You will also need to have software installed to run and execute a [Jupyter Notebook](http://ipython.org/notebook.html).\n",
    "\n",
    "If you do not have Python installed yet, it is highly recommended that you install the [Anaconda](http://continuum.io/downloads) distribution of Python, which already has the above packages and more included.\n",
    "\n",
    "\n",
    "Starting the Project\n",
    "--------------------\n",
    "\n",
    "For this assignment, you can find the `p1_charityml` folder containing the necessary project files on the [Data Scientist GitHub](https://github.com/udacity/DSND_Term1), under the `projects` folder. This project contains three files that you will need to use:\n",
    "\n",
    "-   `finding_donors.ipynb`: This is the main file where you will be performing your work on the project.\n",
    "-   `census.csv`: The project dataset. You'll load this data in the notebook.\n",
    "-   `visuals.py`: This Python script provides supplementary visualizations for the project. Do not modify.\n",
    "\n",
    "In the Terminal or Command Prompt, navigate to the folder on your machine where you've put the project files, and then use the command `jupyter notebook finding_donors.ipynb` to open up a browser window or tab to work with your notebook. Alternatively, you can use the command `jupyter notebook` or `ipython notebook` and navigate to the notebook file in the browser window that opens. Follow the instructions in the notebook and answer each question presented to successfully complete the project. A README file has also been provided with the project files which may contain additional necessary information or instruction for the project.\n",
    "\n",
    "Submitting the Project\n",
    "----------------------\n",
    "\n",
    "### Evaluation\n",
    "\n",
    "Your project will be reviewed by a Udacity reviewer against the [Finding Donors for CharityML project rubric](https://review.udacity.com/#!/rubrics/406/view). Be sure to review this rubric thoroughly and self-evaluate your project before submission. All criteria found in the rubric must be *meeting specifications* for you to pass.\n",
    "\n",
    "### Submission Files\n",
    "\n",
    "Following files would be needed for evaluation:\n",
    "\n",
    "-   The `finding_donors.ipynb` notebook file with all questions answered and all code cells executed and displaying output.\n",
    "\n",
    "-   An HTML export of the project notebook with the name report.html. This file *must* be present for your project to be evaluated.\n",
    "\n",
    "When you are ready to submit your project, There are three ways in which your project can be submitted for evaluation.\n",
    "\n",
    "1.  If you ran the notebook from your local machine collect the above files and compress them into a single archive for upload.\n",
    "\n",
    "2.  You could supply the above files on your GitHub Repo in a folder named `finding_donors` for ease of access. This would build a good Github profile in parallel.\n",
    "\n",
    "3.  If you worked using the workspace inside the classroom you can submit your project directly for review using the submit button at the end of project, just make sure you download the HTML report to local machine and upload it back into workspace BEFORE submitting your report.\n",
    "\n",
    "\n",
    "[Project Data](https://github.com/udacity/DSND_Term1)"
   ]
  }
 ],
 "metadata": {
  "kernelspec": {
   "display_name": "Python 3",
   "language": "python",
   "name": "python3"
  },
  "language_info": {
   "codemirror_mode": {
    "name": "ipython",
    "version": 2
   },
   "file_extension": ".py",
   "mimetype": "text/x-python",
   "name": "python",
   "nbconvert_exporter": "python",
   "pygments_lexer": "ipython2",
   "version": "2.7.6"
  },
  "pycharm": {
   "stem_cell": {
    "cell_type": "raw",
    "source": [],
    "metadata": {
     "collapsed": false
    }
   }
  }
 },
 "nbformat": 4,
 "nbformat_minor": 0
}